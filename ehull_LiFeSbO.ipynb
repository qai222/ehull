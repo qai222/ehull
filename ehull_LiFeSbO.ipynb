{
 "cells": [
  {
   "cell_type": "markdown",
   "source": [
    "# `e_above_hull`\n",
    "This notebook shows some values of `e_above_hull` from Materials Project appear to be different from the ones computed using `get_decomp_and_e_above_hull`."
   ],
   "metadata": {
    "collapsed": false,
    "pycharm": {
     "name": "#%% md\n"
    }
   }
  },
  {
   "cell_type": "code",
   "execution_count": 1,
   "outputs": [
    {
     "name": "stderr",
     "output_type": "stream",
     "text": [
      "D:\\project\\CrystalGraph\\venv\\lib\\site-packages\\pymatgen\\analysis\\phase_diagram.py:24: TqdmExperimentalWarning: Using `tqdm.autonotebook.tqdm` in notebook mode. Use `tqdm.tqdm` instead to force console mode (e.g. in jupyter console)\n",
      "  from tqdm.autonotebook import tqdm\n",
      "D:\\project\\CrystalGraph\\venv\\lib\\site-packages\\pymatgen\\ext\\matproj.py:179: UserWarning: You are using the legacy MPRester, which is deprecated. If you are not a power user, ie., you do not have a lot of legacy code that uses many different MPRester methods, it is recommended you get a new API key from the new Materials Project front end. Once you use get your new API key, using the new API key will automatically route you to using the new MPRester.\n",
      "  warnings.warn(\n"
     ]
    }
   ],
   "source": [
    "import pandas as pd\n",
    "from pymatgen.ext.matproj import MPRester\n",
    "from pymatgen.analysis.phase_diagram import PhaseDiagram\n",
    "from pymatgen.core.composition import Composition\n",
    "from pymatgen.entries.computed_entries import ComputedEntry\n",
    "import datetime\n",
    "\n",
    "chemsys=('Li', 'Fe', 'Sb', 'O')\n",
    "apikey=\"2d5wyVmhDCpPMAkq\"\n",
    "\n",
    "def download_entries():\n",
    "    mpr = MPRester(api_key=apikey)\n",
    "    entries = mpr.get_entries_in_chemsys(\n",
    "        chemsys, property_data=['e_above_hull', 'formation_energy_per_atom', 'energy_per_atom', 'nsites', 'unit_cell_formula', ]\n",
    "    )\n",
    "    records = []\n",
    "    for e in entries:\n",
    "        records.append(\n",
    "            dict(\n",
    "                normalized_formula=e.composition.fractional_composition.formula,\n",
    "                formation_energy_per_atom=e.data['formation_energy_per_atom'],\n",
    "                mpid=e.entry_id,\n",
    "                e_above_hull=e.data['e_above_hull'],\n",
    "                energy_per_atom=e.data['energy_per_atom'],\n",
    "            )\n",
    "        )\n",
    "    df = pd.DataFrame.from_records(records)\n",
    "    df.to_csv(\"\".join(chemsys) + f'-{datetime.datetime.now().strftime(\"%y-%m-%d\")}.csv', index=False)\n",
    "    return df\n",
    "\n",
    "df_mp = download_entries()"
   ],
   "metadata": {
    "collapsed": false,
    "pycharm": {
     "name": "#%%\n"
    }
   }
  },
  {
   "cell_type": "code",
   "execution_count": 2,
   "outputs": [
    {
     "data": {
      "text/plain": "    normalized_formula  formation_energy_per_atom        mpid  e_above_hull  \\\n0                  Fe1                   0.054268  mp-1271693      0.054268   \n1                  Fe1                   0.097150      mp-136      0.097150   \n2                  Fe1                   0.066685  mp-1271562      0.066685   \n3                  Fe1                   0.274279  mp-1245108      0.274279   \n4                  Fe1                   0.476078  mp-1096950      0.476078   \n..                 ...                        ...         ...           ...   \n458                Sb1                   0.000000      mp-104      0.000000   \n459                Sb1                   0.122997   mp-567409      0.122997   \n460                Sb1                   0.328352    mp-10630      0.328352   \n461                Sb1                   0.234571  mp-1179618      0.234571   \n462                Sb1                   0.058897   mp-632286      0.058897   \n\n     energy_per_atom  \n0          -8.415029  \n1          -8.372147  \n2          -8.402612  \n3          -8.195018  \n4          -7.993219  \n..               ...  \n458        -4.129000  \n459        -4.006003  \n460        -3.800648  \n461        -3.894428  \n462        -4.070102  \n\n[463 rows x 5 columns]",
      "text/html": "<div>\n<style scoped>\n    .dataframe tbody tr th:only-of-type {\n        vertical-align: middle;\n    }\n\n    .dataframe tbody tr th {\n        vertical-align: top;\n    }\n\n    .dataframe thead th {\n        text-align: right;\n    }\n</style>\n<table border=\"1\" class=\"dataframe\">\n  <thead>\n    <tr style=\"text-align: right;\">\n      <th></th>\n      <th>normalized_formula</th>\n      <th>formation_energy_per_atom</th>\n      <th>mpid</th>\n      <th>e_above_hull</th>\n      <th>energy_per_atom</th>\n    </tr>\n  </thead>\n  <tbody>\n    <tr>\n      <th>0</th>\n      <td>Fe1</td>\n      <td>0.054268</td>\n      <td>mp-1271693</td>\n      <td>0.054268</td>\n      <td>-8.415029</td>\n    </tr>\n    <tr>\n      <th>1</th>\n      <td>Fe1</td>\n      <td>0.097150</td>\n      <td>mp-136</td>\n      <td>0.097150</td>\n      <td>-8.372147</td>\n    </tr>\n    <tr>\n      <th>2</th>\n      <td>Fe1</td>\n      <td>0.066685</td>\n      <td>mp-1271562</td>\n      <td>0.066685</td>\n      <td>-8.402612</td>\n    </tr>\n    <tr>\n      <th>3</th>\n      <td>Fe1</td>\n      <td>0.274279</td>\n      <td>mp-1245108</td>\n      <td>0.274279</td>\n      <td>-8.195018</td>\n    </tr>\n    <tr>\n      <th>4</th>\n      <td>Fe1</td>\n      <td>0.476078</td>\n      <td>mp-1096950</td>\n      <td>0.476078</td>\n      <td>-7.993219</td>\n    </tr>\n    <tr>\n      <th>...</th>\n      <td>...</td>\n      <td>...</td>\n      <td>...</td>\n      <td>...</td>\n      <td>...</td>\n    </tr>\n    <tr>\n      <th>458</th>\n      <td>Sb1</td>\n      <td>0.000000</td>\n      <td>mp-104</td>\n      <td>0.000000</td>\n      <td>-4.129000</td>\n    </tr>\n    <tr>\n      <th>459</th>\n      <td>Sb1</td>\n      <td>0.122997</td>\n      <td>mp-567409</td>\n      <td>0.122997</td>\n      <td>-4.006003</td>\n    </tr>\n    <tr>\n      <th>460</th>\n      <td>Sb1</td>\n      <td>0.328352</td>\n      <td>mp-10630</td>\n      <td>0.328352</td>\n      <td>-3.800648</td>\n    </tr>\n    <tr>\n      <th>461</th>\n      <td>Sb1</td>\n      <td>0.234571</td>\n      <td>mp-1179618</td>\n      <td>0.234571</td>\n      <td>-3.894428</td>\n    </tr>\n    <tr>\n      <th>462</th>\n      <td>Sb1</td>\n      <td>0.058897</td>\n      <td>mp-632286</td>\n      <td>0.058897</td>\n      <td>-4.070102</td>\n    </tr>\n  </tbody>\n</table>\n<p>463 rows × 5 columns</p>\n</div>"
     },
     "execution_count": 2,
     "metadata": {},
     "output_type": "execute_result"
    }
   ],
   "source": [
    "df_mp\n",
    "# `mp-778012` (row # 191) has a formation energy of `-13.5686` which seems abnormal..."
   ],
   "metadata": {
    "collapsed": false,
    "pycharm": {
     "name": "#%%\n"
    }
   }
  },
  {
   "cell_type": "code",
   "execution_count": 3,
   "outputs": [],
   "source": [
    "def diff_ehull(dataframe: pd.DataFrame, use_formation_energy=True):\n",
    "    \"\"\"\n",
    "    for each entry in the dataframe,\n",
    "     calculate its `e_above_hull` using the simplex method of pymatgen\n",
    "\n",
    "    :param dataframe:\n",
    "    :param use_formation_energy: if use formation energy to calculate `e_above_hull`, otherwise use `energy_per_atom`\n",
    "    :return: a dataframe contains `e_above_hull` values\n",
    "    \"\"\"\n",
    "    if use_formation_energy:\n",
    "        energy_key = \"formation_energy_per_atom\"\n",
    "    else:\n",
    "        energy_key = \"energy_per_atom\"\n",
    "\n",
    "    computed_entries = []\n",
    "    for record in dataframe.to_dict(orient=\"records\"):\n",
    "\n",
    "        ce = ComputedEntry(\n",
    "            composition=Composition(record[\"normalized_formula\"]),\n",
    "            energy=record[energy_key],\n",
    "            entry_id=record[\"mpid\"],\n",
    "            data={\"mp-ehull\": record[\"e_above_hull\"]}\n",
    "        )\n",
    "        computed_entries.append(ce)\n",
    "\n",
    "    diagram = PhaseDiagram(computed_entries)\n",
    "    ehull = []\n",
    "    for ce in computed_entries:\n",
    "        decomp, pmg_ehull = diagram.get_decomp_and_e_above_hull(ce)\n",
    "        mp_ehull = ce.data[\"mp-ehull\"]\n",
    "        r = dict(\n",
    "            mpid=ce.entry_id,\n",
    "            pmg_ehull=pmg_ehull,\n",
    "            mp_ehull=mp_ehull,\n",
    "            diff = pmg_ehull - mp_ehull,\n",
    "        )\n",
    "        ehull.append(r)\n",
    "    return pd.DataFrame.from_records(ehull)\n",
    "\n",
    "\n",
    "df_ehull = diff_ehull(df_mp, use_formation_energy=True)"
   ],
   "metadata": {
    "collapsed": false,
    "pycharm": {
     "name": "#%%\n"
    }
   }
  },
  {
   "cell_type": "code",
   "execution_count": 4,
   "outputs": [
    {
     "data": {
      "text/plain": "           mpid  pmg_ehull  mp_ehull          diff\n0    mp-1271693   0.054268  0.054268  0.000000e+00\n1        mp-136   0.097150  0.097150  0.000000e+00\n2    mp-1271562   0.066685  0.066685  0.000000e+00\n3    mp-1245108   0.274279  0.274279  5.551115e-17\n4    mp-1096950   0.476078  0.476078  0.000000e+00\n..          ...        ...       ...           ...\n458      mp-104   0.000000  0.000000  0.000000e+00\n459   mp-567409   0.122997  0.122997  0.000000e+00\n460    mp-10630   0.328352  0.328352  0.000000e+00\n461  mp-1179618   0.234571  0.234571  2.498002e-16\n462   mp-632286   0.058897  0.058897  0.000000e+00\n\n[463 rows x 4 columns]",
      "text/html": "<div>\n<style scoped>\n    .dataframe tbody tr th:only-of-type {\n        vertical-align: middle;\n    }\n\n    .dataframe tbody tr th {\n        vertical-align: top;\n    }\n\n    .dataframe thead th {\n        text-align: right;\n    }\n</style>\n<table border=\"1\" class=\"dataframe\">\n  <thead>\n    <tr style=\"text-align: right;\">\n      <th></th>\n      <th>mpid</th>\n      <th>pmg_ehull</th>\n      <th>mp_ehull</th>\n      <th>diff</th>\n    </tr>\n  </thead>\n  <tbody>\n    <tr>\n      <th>0</th>\n      <td>mp-1271693</td>\n      <td>0.054268</td>\n      <td>0.054268</td>\n      <td>0.000000e+00</td>\n    </tr>\n    <tr>\n      <th>1</th>\n      <td>mp-136</td>\n      <td>0.097150</td>\n      <td>0.097150</td>\n      <td>0.000000e+00</td>\n    </tr>\n    <tr>\n      <th>2</th>\n      <td>mp-1271562</td>\n      <td>0.066685</td>\n      <td>0.066685</td>\n      <td>0.000000e+00</td>\n    </tr>\n    <tr>\n      <th>3</th>\n      <td>mp-1245108</td>\n      <td>0.274279</td>\n      <td>0.274279</td>\n      <td>5.551115e-17</td>\n    </tr>\n    <tr>\n      <th>4</th>\n      <td>mp-1096950</td>\n      <td>0.476078</td>\n      <td>0.476078</td>\n      <td>0.000000e+00</td>\n    </tr>\n    <tr>\n      <th>...</th>\n      <td>...</td>\n      <td>...</td>\n      <td>...</td>\n      <td>...</td>\n    </tr>\n    <tr>\n      <th>458</th>\n      <td>mp-104</td>\n      <td>0.000000</td>\n      <td>0.000000</td>\n      <td>0.000000e+00</td>\n    </tr>\n    <tr>\n      <th>459</th>\n      <td>mp-567409</td>\n      <td>0.122997</td>\n      <td>0.122997</td>\n      <td>0.000000e+00</td>\n    </tr>\n    <tr>\n      <th>460</th>\n      <td>mp-10630</td>\n      <td>0.328352</td>\n      <td>0.328352</td>\n      <td>0.000000e+00</td>\n    </tr>\n    <tr>\n      <th>461</th>\n      <td>mp-1179618</td>\n      <td>0.234571</td>\n      <td>0.234571</td>\n      <td>2.498002e-16</td>\n    </tr>\n    <tr>\n      <th>462</th>\n      <td>mp-632286</td>\n      <td>0.058897</td>\n      <td>0.058897</td>\n      <td>0.000000e+00</td>\n    </tr>\n  </tbody>\n</table>\n<p>463 rows × 4 columns</p>\n</div>"
     },
     "execution_count": 4,
     "metadata": {},
     "output_type": "execute_result"
    }
   ],
   "source": [
    "df_ehull"
   ],
   "metadata": {
    "collapsed": false,
    "pycharm": {
     "name": "#%%\n"
    }
   }
  },
  {
   "cell_type": "code",
   "execution_count": 5,
   "outputs": [
    {
     "data": {
      "text/plain": "<AxesSubplot:title={'center':'LiFeSbO 22-11-16'}, xlabel='$\\\\Delta E_{hull}$ (eV)', ylabel='Count'>"
     },
     "execution_count": 5,
     "metadata": {},
     "output_type": "execute_result"
    },
    {
     "data": {
      "text/plain": "<Figure size 432x288 with 1 Axes>",
      "image/png": "[encoded data removed]"
     },
     "metadata": {
      "needs_background": "light"
     },
     "output_type": "display_data"
    }
   ],
   "source": [
    "df_nontrivial = df_ehull[df_ehull['diff'].abs() > 1e-3]\n",
    "hist = df_nontrivial['diff'].hist(bins=20)\n",
    "hist.set_title(\"\".join(chemsys) + \" \" + datetime.datetime.now().strftime(\"%y-%m-%d\"))\n",
    "hist.set_xlabel(r\"$\\Delta E_{hull}$ (eV)\")\n",
    "hist.set_ylabel(\"Count\")\n",
    "hist"
   ],
   "metadata": {
    "collapsed": false,
    "pycharm": {
     "name": "#%%\n"
    }
   }
  },
  {
   "cell_type": "code",
   "execution_count": 6,
   "outputs": [
    {
     "data": {
      "text/plain": "           mpid  pmg_ehull  mp_ehull      diff\n5    mp-1194030   0.179693  0.498272 -0.318579\n14     mp-18782   0.021580  0.020222  0.001358\n16    mp-850511   0.083110  0.768412 -0.685302\n17    mp-780312   0.080952  0.258588 -0.177636\n24   mp-1178108   0.233380  0.348861 -0.115480\n..          ...        ...       ...       ...\n321  mp-1225001   0.188073  0.445567 -0.257494\n324  mp-1182249   0.069054  0.982156 -0.913102\n329   mp-601882   0.109962  0.095557  0.014405\n338  mp-1184324   0.096736  0.082021  0.014715\n390  mp-1102442   0.957704  0.739564  0.218140\n\n[97 rows x 4 columns]",
      "text/html": "<div>\n<style scoped>\n    .dataframe tbody tr th:only-of-type {\n        vertical-align: middle;\n    }\n\n    .dataframe tbody tr th {\n        vertical-align: top;\n    }\n\n    .dataframe thead th {\n        text-align: right;\n    }\n</style>\n<table border=\"1\" class=\"dataframe\">\n  <thead>\n    <tr style=\"text-align: right;\">\n      <th></th>\n      <th>mpid</th>\n      <th>pmg_ehull</th>\n      <th>mp_ehull</th>\n      <th>diff</th>\n    </tr>\n  </thead>\n  <tbody>\n    <tr>\n      <th>5</th>\n      <td>mp-1194030</td>\n      <td>0.179693</td>\n      <td>0.498272</td>\n      <td>-0.318579</td>\n    </tr>\n    <tr>\n      <th>14</th>\n      <td>mp-18782</td>\n      <td>0.021580</td>\n      <td>0.020222</td>\n      <td>0.001358</td>\n    </tr>\n    <tr>\n      <th>16</th>\n      <td>mp-850511</td>\n      <td>0.083110</td>\n      <td>0.768412</td>\n      <td>-0.685302</td>\n    </tr>\n    <tr>\n      <th>17</th>\n      <td>mp-780312</td>\n      <td>0.080952</td>\n      <td>0.258588</td>\n      <td>-0.177636</td>\n    </tr>\n    <tr>\n      <th>24</th>\n      <td>mp-1178108</td>\n      <td>0.233380</td>\n      <td>0.348861</td>\n      <td>-0.115480</td>\n    </tr>\n    <tr>\n      <th>...</th>\n      <td>...</td>\n      <td>...</td>\n      <td>...</td>\n      <td>...</td>\n    </tr>\n    <tr>\n      <th>321</th>\n      <td>mp-1225001</td>\n      <td>0.188073</td>\n      <td>0.445567</td>\n      <td>-0.257494</td>\n    </tr>\n    <tr>\n      <th>324</th>\n      <td>mp-1182249</td>\n      <td>0.069054</td>\n      <td>0.982156</td>\n      <td>-0.913102</td>\n    </tr>\n    <tr>\n      <th>329</th>\n      <td>mp-601882</td>\n      <td>0.109962</td>\n      <td>0.095557</td>\n      <td>0.014405</td>\n    </tr>\n    <tr>\n      <th>338</th>\n      <td>mp-1184324</td>\n      <td>0.096736</td>\n      <td>0.082021</td>\n      <td>0.014715</td>\n    </tr>\n    <tr>\n      <th>390</th>\n      <td>mp-1102442</td>\n      <td>0.957704</td>\n      <td>0.739564</td>\n      <td>0.218140</td>\n    </tr>\n  </tbody>\n</table>\n<p>97 rows × 4 columns</p>\n</div>"
     },
     "execution_count": 6,
     "metadata": {},
     "output_type": "execute_result"
    }
   ],
   "source": [
    "df_nontrivial"
   ],
   "metadata": {
    "collapsed": false,
    "pycharm": {
     "name": "#%%\n"
    }
   }
  }
 ],
 "metadata": {
  "kernelspec": {
   "display_name": "Python 3",
   "language": "python",
   "name": "python3"
  },
  "language_info": {
   "codemirror_mode": {
    "name": "ipython",
    "version": 2
   },
   "file_extension": ".py",
   "mimetype": "text/x-python",
   "name": "python",
   "nbconvert_exporter": "python",
   "pygments_lexer": "ipython2",
   "version": "2.7.6"
  }
 },
 "nbformat": 4,
 "nbformat_minor": 0
}