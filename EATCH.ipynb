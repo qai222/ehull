{
 "cells": [
  {
   "cell_type": "markdown",
   "metadata": {
    "collapsed": true,
    "pycharm": {
     "name": "#%% md\n"
    }
   },
   "source": [
    "## Are EATCH (energy above the convex hull) values from Materials Project correct?"
   ]
  },
  {
   "cell_type": "code",
   "execution_count": 4,
   "outputs": [],
   "source": [
    "import json\n",
    "import gzip\n",
    "from schema import Compound, load_mp_pairs\n",
    "from pymatgen.analysis.phase_diagram import PhaseDiagram\n",
    "from pymatgen.core.composition import Composition\n",
    "from pymatgen.entries.computed_entries import ComputedEntry\n",
    "from tqdm import tqdm\n"
   ],
   "metadata": {
    "collapsed": false,
    "pycharm": {
     "name": "#%%\n"
    }
   }
  },
  {
   "cell_type": "code",
   "execution_count": 5,
   "outputs": [],
   "source": [
    "\n",
    "# load mp data\n",
    "with gzip.open(\"mp.json.gz\", 'rt', encoding='UTF-8') as zipfile:\n",
    "    mpdata = json.load(zipfile)"
   ],
   "metadata": {
    "collapsed": false,
    "pycharm": {
     "name": "#%%\n"
    }
   }
  },
  {
   "cell_type": "code",
   "execution_count": 6,
   "outputs": [
    {
     "name": "stdout",
     "output_type": "stream",
     "text": [
      "create mpid2chemsys...\n"
     ]
    },
    {
     "name": "stderr",
     "output_type": "stream",
     "text": [
      "100%|██████████| 126335/126335 [00:00<00:00, 323454.72it/s]\n"
     ]
    },
    {
     "name": "stdout",
     "output_type": "stream",
     "text": [
      "create chemsys2subsets...\n"
     ]
    },
    {
     "name": "stderr",
     "output_type": "stream",
     "text": [
      "100%|██████████| 43888/43888 [02:45<00:00, 265.74it/s]\n"
     ]
    },
    {
     "name": "stdout",
     "output_type": "stream",
     "text": [
      "create pairs...\n"
     ]
    },
    {
     "name": "stderr",
     "output_type": "stream",
     "text": [
      "100%|██████████| 126335/126335 [00:06<00:00, 18956.16it/s]\n"
     ]
    }
   ],
   "source": [
    "# for a compound A, find other compounds in MP whose elements form a subset of A's elements\n",
    "pairs = load_mp_pairs(mpdata)"
   ],
   "metadata": {
    "collapsed": false,
    "pycharm": {
     "name": "#%%\n"
    }
   }
  },
  {
   "cell_type": "code",
   "execution_count": 8,
   "outputs": [],
   "source": [
    "# wrapper for pymatgen EATCH calculator\n",
    "def find_pmgehull(\n",
    "        reactant: Compound, products: list[Compound],\n",
    "):\n",
    "    c_e = ComputedEntry(Composition(reactant.normalized_formula), reactant.formation_energy_per_atom,\n",
    "                        entry_id=reactant.mpid)\n",
    "    cp_es = []\n",
    "    for cp in products:\n",
    "        cp_es.append(ComputedEntry(Composition(cp.normalized_formula), cp.formation_energy_per_atom, entry_id=cp.mpid))\n",
    "    pdEntries = [c_e, ] + cp_es\n",
    "    pd = PhaseDiagram(pdEntries)\n",
    "    decomp, ehull = pd.get_decomp_and_e_above_hull(c_e)\n",
    "    return ehull"
   ],
   "metadata": {
    "collapsed": false,
    "pycharm": {
     "name": "#%%\n"
    }
   }
  },
  {
   "cell_type": "code",
   "execution_count": 32,
   "outputs": [
    {
     "name": "stderr",
     "output_type": "stream",
     "text": [
      "100%|██████████| 500/500 [00:17<00:00, 29.36it/s]\n"
     ]
    }
   ],
   "source": [
    "# how many inconsistent hull values?\n",
    "inconsistent_pairs = []\n",
    "for pair in tqdm(pairs[:500]):  # let's look at the first 500\n",
    "    pmg_ehull = find_pmgehull(*pair)\n",
    "    mp_ehull = pair[0].e_above_hull\n",
    "    try:\n",
    "        assert isinstance(pmg_ehull, float)\n",
    "        assert isinstance(mp_ehull, float)\n",
    "    except AssertionError:\n",
    "        continue\n",
    "    if abs(pmg_ehull - mp_ehull) > 1e-1:\n",
    "        inconsistent_pairs.append(pair)"
   ],
   "metadata": {
    "collapsed": false,
    "pycharm": {
     "name": "#%%\n"
    }
   }
  },
  {
   "cell_type": "code",
   "execution_count": 39,
   "outputs": [],
   "source": [
    "def printout_inconsistency(pair):\n",
    "    compound, competing_phases = pair\n",
    "    pmg_ehull = find_pmgehull(*pair)\n",
    "    mp_ehull = compound.e_above_hull\n",
    "    print(\"Compound: {}; Competing phases: {}\".format(compound.mpid, len(competing_phases)))\n",
    "    print(\"PMG simplex: {:.4f}\".format(pmg_ehull))\n",
    "    print(\"MP value: {:.4f}\".format(mp_ehull))"
   ],
   "metadata": {
    "collapsed": false,
    "pycharm": {
     "name": "#%%\n"
    }
   }
  },
  {
   "cell_type": "code",
   "execution_count": 41,
   "outputs": [
    {
     "name": "stdout",
     "output_type": "stream",
     "text": [
      "1/9\n",
      "Compound: mp-1213897; Competing phases: 178\n",
      "PMG simplex: 0.7632\n",
      "MP value: 0.8855\n",
      "2/9\n",
      "1\n",
      "Compound: mp-1318211; Competing phases: 462\n",
      "PMG simplex: 10.4023\n",
      "MP value: 0.0442\n",
      "3/9\n",
      "Compound: mp-25261; Competing phases: 202\n",
      "PMG simplex: 0.0829\n",
      "MP value: 0.3856\n",
      "4/9\n",
      "Compound: mp-647680; Competing phases: 491\n",
      "PMG simplex: 0.3105\n",
      "MP value: 1.2546\n",
      "5/9\n",
      "Compound: mp-758222; Competing phases: 907\n",
      "PMG simplex: 0.0731\n",
      "MP value: 0.8443\n",
      "6/9\n",
      "Compound: mp-763729; Competing phases: 484\n",
      "PMG simplex: 0.0979\n",
      "MP value: 0.4720\n",
      "7/9\n",
      "Compound: mp-771431; Competing phases: 240\n",
      "PMG simplex: 0.1380\n",
      "MP value: 0.3808\n",
      "8/9\n",
      "Compound: mvc-10044; Competing phases: 381\n",
      "PMG simplex: 0.0593\n",
      "MP value: 0.5579\n",
      "9/9\n",
      "Compound: mvc-15992; Competing phases: 215\n",
      "PMG simplex: 0.2759\n",
      "MP value: 0.5183\n"
     ]
    }
   ],
   "source": [
    "for ipair, pair in enumerate(inconsistent_pairs):\n",
    "    print(\"{}/{}\".format(ipair+1, len(inconsistent_pairs)))\n",
    "    printout_inconsistency(pair)"
   ],
   "metadata": {
    "collapsed": false,
    "pycharm": {
     "name": "#%%\n"
    }
   }
  },
  {
   "cell_type": "code",
   "execution_count": 43,
   "outputs": [
    {
     "name": "stdout",
     "output_type": "stream",
     "text": [
      "MP value is: 0.044174889736114054\n",
      "PMG simplex is: 10.402308953305555\n",
      "after removing: mp-778012\n",
      "PMG simplex is: 0.0441748897361105\n"
     ]
    }
   ],
   "source": [
    "# for the 2nd pair, we can reproduce MP values by removing one compound from `competing phases`\n",
    "second_pair = inconsistent_pairs[1]\n",
    "compound, competing_phases = second_pair\n",
    "print(\"MP value is: {}\".format(compound.e_above_hull))\n",
    "print(\"PMG simplex is: {}\".format(find_pmgehull(*second_pair)))\n",
    "for i in range(len(competing_phases)):\n",
    "    new_competing_phases = competing_phases[:i] + competing_phases[i+1:]\n",
    "    new_pmg_ehull = find_pmgehull(compound, new_competing_phases)\n",
    "    if abs(new_pmg_ehull - compound.e_above_hull) < 1e-5:\n",
    "        break\n",
    "print(\"after removing: {}\".format(competing_phases[i].mpid))\n",
    "print(\"PMG simplex is: {}\".format(new_pmg_ehull))"
   ],
   "metadata": {
    "collapsed": false,
    "pycharm": {
     "name": "#%%\n"
    }
   }
  }
 ],
 "metadata": {
  "kernelspec": {
   "display_name": "Python 3",
   "language": "python",
   "name": "python3"
  },
  "language_info": {
   "codemirror_mode": {
    "name": "ipython",
    "version": 2
   },
   "file_extension": ".py",
   "mimetype": "text/x-python",
   "name": "python",
   "nbconvert_exporter": "python",
   "pygments_lexer": "ipython2",
   "version": "2.7.6"
  }
 },
 "nbformat": 4,
 "nbformat_minor": 0
}